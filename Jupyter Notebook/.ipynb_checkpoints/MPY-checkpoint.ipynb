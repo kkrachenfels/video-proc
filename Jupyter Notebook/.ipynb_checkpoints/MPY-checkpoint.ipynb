{
 "cells": [
  {
   "cell_type": "markdown",
   "metadata": {},
   "source": []
  },
  {
   "cell_type": "code",
   "execution_count": 10,
   "metadata": {},
   "outputs": [],
   "source": [
    "import cv2\n",
    "import os\n",
    "import numpy as np\n",
    "import skimage\n",
    "import matplotlib.pyplot as plt\n",
    "import skimage.data as data\n",
    "import skimage.segmentation as seg\n",
    "from skimage import filters\n",
    "from skimage import draw\n",
    "from skimage import color\n",
    "from skimage import exposure\n",
    "from skimage import io"
   ]
  },
  {
   "cell_type": "markdown",
   "metadata": {},
   "source": [
    "We began by taking a videofile and reducing its dimensionality.\n",
    "We extract individual frames\n",
    "convert those frames to grayscale\n",
    "take the average of regions of the screen\n",
    "reshaped the data into a 2D matrix where the rows are the regions of the screen, the columns are timesteps, and the data is grayscale"
   ]
  },
  {
   "cell_type": "code",
   "execution_count": 11,
   "metadata": {},
   "outputs": [],
   "source": [
    "def getvideo(vid):\n",
    "    vidcap = cv2.VideoCapture(vid)\n",
    "\n",
    "    success, image = vidcap.read()\n",
    "\n",
    "    count = 1\n",
    "\n",
    "    avg_gray_over_time = []\n",
    "\n",
    "    while success:\n",
    "        imgGray = color.rgb2gray(image)\n",
    "        \n",
    "        #print('manipulated frame', count)\n",
    "\n",
    "        success, image = vidcap.read()\n",
    "        count+=1 \n",
    "        \n",
    "\n",
    "        avg_gray = []\n",
    "        \n",
    "        first_split = np.vsplit(imgGray, 3)\n",
    "        for segment in first_split:\n",
    "            second_split = np.hsplit(segment, 4)\n",
    "            for small_seg in second_split:\n",
    "                avg_gray.append(np.average(small_seg))\n",
    "\n",
    "        avg_gray_over_time.append(avg_gray)\n",
    "\n",
    "\n",
    "    #print(avg_gray_over_time)\n",
    "    print(\"Manipulated \", count, \" frames\")\n",
    "\n",
    "    #convert list to numpy array\n",
    "    gray_vs_time = np.array(avg_gray_over_time)\n",
    "    return gray_vs_time\n",
    "\n"
   ]
  },
  {
   "cell_type": "code",
   "execution_count": 12,
   "metadata": {},
   "outputs": [
    {
     "ename": "KeyboardInterrupt",
     "evalue": "",
     "output_type": "error",
     "traceback": [
      "\u001b[0;31m---------------------------------------------------------------------------\u001b[0m",
      "\u001b[0;31mKeyboardInterrupt\u001b[0m                         Traceback (most recent call last)",
      "Input \u001b[0;32mIn [12]\u001b[0m, in \u001b[0;36m<cell line: 2>\u001b[0;34m()\u001b[0m\n\u001b[1;32m      1\u001b[0m \u001b[38;5;66;03m#scene from Alien\u001b[39;00m\n\u001b[0;32m----> 2\u001b[0m alien_flashes \u001b[38;5;241m=\u001b[39m \u001b[43mgetvideo\u001b[49m\u001b[43m(\u001b[49m\u001b[38;5;124;43m\"\u001b[39;49m\u001b[38;5;124;43mtestBAD.mp4\u001b[39;49m\u001b[38;5;124;43m\"\u001b[39;49m\u001b[43m)\u001b[49m\n",
      "Input \u001b[0;32mIn [11]\u001b[0m, in \u001b[0;36mgetvideo\u001b[0;34m(vid)\u001b[0m\n\u001b[1;32m      8\u001b[0m avg_gray_over_time \u001b[38;5;241m=\u001b[39m []\n\u001b[1;32m     10\u001b[0m \u001b[38;5;28;01mwhile\u001b[39;00m success:\n\u001b[0;32m---> 11\u001b[0m     imgGray \u001b[38;5;241m=\u001b[39m \u001b[43mcolor\u001b[49m\u001b[38;5;241;43m.\u001b[39;49m\u001b[43mrgb2gray\u001b[49m\u001b[43m(\u001b[49m\u001b[43mimage\u001b[49m\u001b[43m)\u001b[49m\n\u001b[1;32m     13\u001b[0m     \u001b[38;5;66;03m#print('manipulated frame', count)\u001b[39;00m\n\u001b[1;32m     15\u001b[0m     success, image \u001b[38;5;241m=\u001b[39m vidcap\u001b[38;5;241m.\u001b[39mread()\n",
      "File \u001b[0;32m~/Library/Python/3.8/lib/python/site-packages/skimage/_shared/utils.py:394\u001b[0m, in \u001b[0;36mchannel_as_last_axis.__call__.<locals>.fixed_func\u001b[0;34m(*args, **kwargs)\u001b[0m\n\u001b[1;32m    391\u001b[0m channel_axis \u001b[38;5;241m=\u001b[39m kwargs\u001b[38;5;241m.\u001b[39mget(\u001b[38;5;124m'\u001b[39m\u001b[38;5;124mchannel_axis\u001b[39m\u001b[38;5;124m'\u001b[39m, \u001b[38;5;28;01mNone\u001b[39;00m)\n\u001b[1;32m    393\u001b[0m \u001b[38;5;28;01mif\u001b[39;00m channel_axis \u001b[38;5;129;01mis\u001b[39;00m \u001b[38;5;28;01mNone\u001b[39;00m:\n\u001b[0;32m--> 394\u001b[0m     \u001b[38;5;28;01mreturn\u001b[39;00m \u001b[43mfunc\u001b[49m\u001b[43m(\u001b[49m\u001b[38;5;241;43m*\u001b[39;49m\u001b[43margs\u001b[49m\u001b[43m,\u001b[49m\u001b[43m \u001b[49m\u001b[38;5;241;43m*\u001b[39;49m\u001b[38;5;241;43m*\u001b[39;49m\u001b[43mkwargs\u001b[49m\u001b[43m)\u001b[49m\n\u001b[1;32m    396\u001b[0m \u001b[38;5;66;03m# TODO: convert scalars to a tuple in anticipation of eventually\u001b[39;00m\n\u001b[1;32m    397\u001b[0m \u001b[38;5;66;03m#       supporting a tuple of channel axes. Right now, only an\u001b[39;00m\n\u001b[1;32m    398\u001b[0m \u001b[38;5;66;03m#       integer or a single-element tuple is supported, though.\u001b[39;00m\n\u001b[1;32m    399\u001b[0m \u001b[38;5;28;01mif\u001b[39;00m np\u001b[38;5;241m.\u001b[39misscalar(channel_axis):\n",
      "File \u001b[0;32m~/Library/Python/3.8/lib/python/site-packages/skimage/color/colorconv.py:877\u001b[0m, in \u001b[0;36mrgb2gray\u001b[0;34m(rgb, channel_axis)\u001b[0m\n\u001b[1;32m    875\u001b[0m rgb \u001b[38;5;241m=\u001b[39m _prepare_colorarray(rgb)\n\u001b[1;32m    876\u001b[0m coeffs \u001b[38;5;241m=\u001b[39m np\u001b[38;5;241m.\u001b[39marray([\u001b[38;5;241m0.2125\u001b[39m, \u001b[38;5;241m0.7154\u001b[39m, \u001b[38;5;241m0.0721\u001b[39m], dtype\u001b[38;5;241m=\u001b[39mrgb\u001b[38;5;241m.\u001b[39mdtype)\n\u001b[0;32m--> 877\u001b[0m \u001b[38;5;28;01mreturn\u001b[39;00m \u001b[43mrgb\u001b[49m\u001b[43m \u001b[49m\u001b[38;5;241;43m@\u001b[39;49m\u001b[43m \u001b[49m\u001b[43mcoeffs\u001b[49m\n",
      "\u001b[0;31mKeyboardInterrupt\u001b[0m: "
     ]
    }
   ],
   "source": [
    "#scene from Alien\n",
    "alien_flashes = getvideo(\"testBAD.mp4\")\n"
   ]
  },
  {
   "cell_type": "code",
   "execution_count": 13,
   "metadata": {},
   "outputs": [
    {
     "name": "stdout",
     "output_type": "stream",
     "text": [
      "Manipulated  653  frames\n"
     ]
    }
   ],
   "source": [
    "#pokemon\n",
    "\n",
    "pory = getvideo(\"porygons.mp4\")\n"
   ]
  },
  {
   "cell_type": "code",
   "execution_count": 22,
   "metadata": {},
   "outputs": [
    {
     "name": "stdout",
     "output_type": "stream",
     "text": [
      "Manipulated  301  frames\n"
     ]
    }
   ],
   "source": [
    "#strobe\n",
    "flasvid = getvideo(\"allflash.mp4\")"
   ]
  },
  {
   "cell_type": "markdown",
   "metadata": {},
   "source": [
    "The goal for this function is to eventually detect changes in relative luminance within specific time frames \n",
    "see the visualizations for more notes about how we plan to do this"
   ]
  },
  {
   "cell_type": "code",
   "execution_count": 18,
   "metadata": {},
   "outputs": [],
   "source": [
    "def getflashes(arr, threshold):\n",
    "    frames=np.shape(arr)\n",
    "    frames = frames[0]\n",
    "    flash=False\n",
    "    flashes=0\n",
    "    rtime = 0\n",
    "    for i in np.arange(24,frames,24):\n",
    "        rtime=rtime+1\n",
    "        if(flashes>3):\n",
    "\n",
    "            print(flash_frames)\n",
    "        flash_frames=[]\n",
    "        segment = arr[i-24:i,:].T > threshold\n",
    "       \n",
    "        \n",
    "        lum_bool=segment[0,0]\n",
    "        time=0\n",
    "        flashes=0\n",
    "\n",
    "        for r in segment:\n",
    "            \n",
    "\n",
    "            if(flash==True):\n",
    "                flashes=flashes+1\n",
    "                flash_frames=np.append(flash_frames,rtime)\n",
    "                \n",
    "\n",
    "            flash=False\n",
    "            for col in r:\n",
    "                \n",
    "                time=time+1\n",
    "                if(col != lum_bool):\n",
    "                    flash=True\n",
    "                    lum_bool=col\n",
    "                else:\n",
    "                    flash=False\n",
    "                \n",
    "   \n",
    "    return(flash_frames)      \n",
    "\n",
    "\n"
   ]
  },
  {
   "cell_type": "markdown",
   "metadata": {},
   "source": [
    "A lot of work needs to be done trying a lot of different models with a lot of different values.\n",
    "The output you're seeing here is saying that there were 7 flashes during second 4. \n",
    "adjusting the values changes how accurate the detection is"
   ]
  },
  {
   "cell_type": "code",
   "execution_count": 19,
   "metadata": {},
   "outputs": [
    {
     "name": "stdout",
     "output_type": "stream",
     "text": [
      "[13. 13. 13. 13. 13. 13. 13. 13. 13. 13. 13.]\n",
      "[17. 17. 17. 17. 17. 17.]\n",
      "[18. 18. 18. 18. 18. 18. 18.]\n",
      "[4. 4. 4. 4. 4.]\n",
      "[13. 13. 13. 13. 13. 13. 13.]\n",
      "[17. 17. 17. 17. 17. 17. 17. 17. 17. 17.]\n",
      "[18. 18. 18. 18. 18. 18. 18. 18. 18. 18. 18.]\n",
      "[4. 4. 4. 4. 4. 4. 4.]\n",
      "[18. 18. 18. 18. 18. 18. 18. 18. 18. 18. 18.]\n"
     ]
    }
   ],
   "source": [
    "flashes1 = getflashes(pory, .3)\n",
    "flashes2 = getflashes(pory, .5)\n",
    "flashes3 = getflashes(pory, .7)"
   ]
  },
  {
   "cell_type": "markdown",
   "metadata": {},
   "source": [
    "Ideas for things to try in the future to help with classification"
   ]
  },
  {
   "cell_type": "code",
   "execution_count": 20,
   "metadata": {},
   "outputs": [],
   "source": [
    "from skimage.segmentation import felzenszwalb, slic, quickshift, watershed\n",
    "from skimage.segmentation import mark_boundaries"
   ]
  },
  {
   "cell_type": "markdown",
   "metadata": {},
   "source": [
    "This image is a 25 frame slice (about a second) the each row is a region of the screen and each column is the frame. \n",
    "In a scene with obvious flashes and not a lot of noise flashes look like distinct blobs like this.\n",
    "we cannot currently make a prediction but we have made a lot of progress in exploring the data and trying to think about how we could make that prediction.\n",
    "In the following cell I apply a thresholding algorithm that returns an array of true and false values. In my get flashes function I am trying to use those values to identify timestamps where that luminance changes a number of times in the second\n",
    "over the next few weeks I will be trying many different ways to segment the image and tweaking the values for those algoriithms and also researching CNN\n"
   ]
  },
  {
   "cell_type": "code",
   "execution_count": 23,
   "metadata": {},
   "outputs": [
    {
     "name": "stdout",
     "output_type": "stream",
     "text": [
      "[[False False False False False]\n",
      " [False False False False False]\n",
      " [False False False False False]\n",
      " [False False False False False]\n",
      " [False False False False False]\n",
      " [False False False False False]\n",
      " [False False False  True False]\n",
      " [False False False  True False]\n",
      " [False False False False False]\n",
      " [False False False False False]\n",
      " [False False False False False]\n",
      " [False False False  True False]]\n"
     ]
    },
    {
     "data": {
      "image/png": "[encoded data removed]",
      "text/plain": [
       "<Figure size 432x288 with 3 Axes>"
      ]
     },
     "metadata": {
      "needs_background": "light"
     },
     "output_type": "display_data"
    }
   ],
   "source": [
    "fig, (ax,ax1,ax2) = plt.subplots(3,1)\n",
    "ax.imshow(flasvid.T[:,:25])\n",
    "ax1.imshow(flasvid.T[:,:25]>.5)\n",
    "print(flasvid.T[:,:5]>.5)\n",
    "chan_vese = seg.chan_vese(flasvid.T[:,:25])\n",
    "print(chan_vese)\n",
    "ax2.imshow(chan_vese == 0, alpha=.75);"
   ]
  },
  {
   "cell_type": "code",
   "execution_count": 24,
   "metadata": {},
   "outputs": [
    {
     "name": "stdout",
     "output_type": "stream",
     "text": [
      "[[False False]\n",
      " [False False]]\n"
     ]
    },
    {
     "data": {
      "text/plain": [
       "[<matplotlib.lines.Line2D at 0x141c1dac0>,\n",
       " <matplotlib.lines.Line2D at 0x141c1db20>,\n",
       " <matplotlib.lines.Line2D at 0x141c1dc40>,\n",
       " <matplotlib.lines.Line2D at 0x141c1dd60>,\n",
       " <matplotlib.lines.Line2D at 0x141c1de80>,\n",
       " <matplotlib.lines.Line2D at 0x141c1dfa0>,\n",
       " <matplotlib.lines.Line2D at 0x141c28100>,\n",
       " <matplotlib.lines.Line2D at 0x141c28220>,\n",
       " <matplotlib.lines.Line2D at 0x141c28340>,\n",
       " <matplotlib.lines.Line2D at 0x141c28460>,\n",
       " <matplotlib.lines.Line2D at 0x141c1daf0>,\n",
       " <matplotlib.lines.Line2D at 0x141c28580>]"
      ]
     },
     "execution_count": 24,
     "metadata": {},
     "output_type": "execute_result"
    },
    {
     "data": {
      "image/png": "[encoded data removed]",
      "text/plain": [
       "<Figure size 432x288 with 8 Axes>"
      ]
     },
     "metadata": {
      "needs_background": "light"
     },
     "output_type": "display_data"
    }
   ],
   "source": [
    "\n",
    "\n",
    "\n",
    "fig, (ax,ax2,ax3,ax4,ax5,ax6, a,b) = plt.subplots(8,1)\n",
    "ax.imshow(flasvid.T,aspect='auto')\n",
    "segmented = flasvid.T > .7\n",
    "ax1.imshow(segmented, aspect=\"auto\")\n",
    "ax2.imshow(flasvid.T[:,:25],aspect='auto')\n",
    "ax3.imshow(flasvid.T[:,:25]>.7,aspect='auto')\n",
    "ax4.imshow(flasvid.T[:,:25]>.3,aspect='auto')\n",
    "ax5.imshow(flasvid.T[:,:25]>.4,aspect='auto')\n",
    "print(flasvid.T[:2,:2]>.7)\n",
    "ax6.imshow(flasvid.T[:,:25]>.7,aspect='auto')\n",
    "a.plot(np.arange(50),flasvid[0:50,:])\n",
    "b.plot(np.arange(300),flasvid)"
   ]
  },
  {
   "cell_type": "code",
   "execution_count": 31,
   "metadata": {},
   "outputs": [
    {
     "name": "stdout",
     "output_type": "stream",
     "text": [
      "[7. 7. 7. 7.]\n"
     ]
    },
    {
     "data": {
      "text/plain": [
       "array([12.])"
      ]
     },
     "execution_count": 31,
     "metadata": {},
     "output_type": "execute_result"
    }
   ],
   "source": [
    "getflashes(flasvid, .1)"
   ]
  },
  {
   "cell_type": "code",
   "execution_count": null,
   "metadata": {},
   "outputs": [],
   "source": [
    "plotseg(flasvid.T)"
   ]
  },
  {
   "cell_type": "code",
   "execution_count": null,
   "metadata": {},
   "outputs": [],
   "source": [
    "fig, (ax,ax1,ax2,ax3) = plt.subplots(4,1)\n",
    "fig, (a,b) = plt.subplots(2,1)\n",
    "ax.imshow(pory.T,aspect='auto')\n",
    "segmented = pory.T > .7\n",
    "ax1.imshow(segmented, aspect=\"auto\")\n",
    "ax2.imshow(pory.T[:,:25],aspect='auto')\n",
    "ax3.imshow(pory.T[:,:25]>.7,aspect='auto')\n",
    "a.plot(np.arange(50),pory[75:125,:])\n",
    "b.plot(np.arange(652),pory)"
   ]
  },
  {
   "cell_type": "code",
   "execution_count": null,
   "metadata": {},
   "outputs": [],
   "source": [
    "threshold = filters.threshold_local(alien_flashes.T[:,:100],51)\n",
    "fig, (ax,ax1,ax2,ax3) = plt.subplots(4,1)\n",
    "fig, (a,b) = plt.subplots(2,1)\n",
    "ax.imshow(alien_flashes.T,aspect='auto')\n",
    "segmented = alien_flashes.T > .7\n",
    "ax1.imshow(segmented, aspect=\"auto\")\n",
    "ax2.imshow(alien_flashes.T[:,:25],aspect='auto')\n",
    "ax3.imshow(alien_flashes.T[:,:25]>.7,aspect='auto')\n",
    "ax4.imshow(alien_flashes.T[:,:100]<threshold)\n",
    "a.plot(np.arange(50),alien_flashes[0:50,:])\n",
    "b.plot(np.arange(8912),alien_flashes)"
   ]
  },
  {
   "cell_type": "code",
   "execution_count": null,
   "metadata": {},
   "outputs": [],
   "source": [
    "\n",
    "\n",
    "\n",
    "x=np.arange(200)\n",
    "#plt.plot(x,gray_vs_time[:,6])\n",
    "#for i in np.arange(0,12):\n",
    "  \n",
    "     #ax0 = plt.plot(x,gray_vs_time[:,i])\n",
    "   \n",
    "plt.plot(x,alien_flashes[25:225,:])\n",
    "     "
   ]
  }
 ],
 "metadata": {
  "kernelspec": {
   "display_name": "Python 3.10.4 64-bit",
   "language": "python",
   "name": "python3"
  },
  "language_info": {
   "codemirror_mode": {
    "name": "ipython",
    "version": 3
   },
   "file_extension": ".py",
   "mimetype": "text/x-python",
   "name": "python",
   "nbconvert_exporter": "python",
   "pygments_lexer": "ipython3",
   "version": "3.10.4"
  },
  "vscode": {
   "interpreter": {
    "hash": "26de051ba29f2982a8de78e945f0abaf191376122a1563185a90213a26c5da77"
   }
  }
 },
 "nbformat": 4,
 "nbformat_minor": 2
}
